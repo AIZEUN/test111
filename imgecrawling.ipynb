{
 "cells": [
  {
   "cell_type": "code",
   "execution_count": 5,
   "metadata": {},
   "outputs": [],
   "source": [
    "from bs4 import BeautifulSoup\n",
    "import requests\n",
    "import urllib"
   ]
  },
  {
   "cell_type": "code",
   "execution_count": 46,
   "metadata": {},
   "outputs": [],
   "source": [
    "event_url = [requests.get('https://maplestory.nexon.com/News/Event/Ongoing/'+str(i)) for i in range(268,523) ]\n",
    "event_html = []\n",
    "\n",
    "for i in event_url:\n",
    "    i.raise_for_status()\n",
    "    event_html.append(BeautifulSoup(i.text,\"lxml\"))"
   ]
  },
  {
   "cell_type": "code",
   "execution_count": 50,
   "metadata": {},
   "outputs": [],
   "source": [
    "sunday_maple = []\n",
    "for i in event_html:\n",
    "    try:\n",
    "        maple = str(i.find_all(\"img\",attrs={\"alt\":\"썬데이 메이플!\"})).split(\" \")\n",
    "        event_con = maple[3].split('\"')\n",
    "        sunday_maple.append(event_con[1])\n",
    "    except:\n",
    "        pass"
   ]
  },
  {
   "cell_type": "code",
   "execution_count": 54,
   "metadata": {},
   "outputs": [],
   "source": [
    "for n,i in enumerate(sunday_maple):\n",
    "    urllib.request.urlretrieve(i,\"sunday/\"+str(n)+'.jpg')"
   ]
  }
 ],
 "metadata": {
  "kernelspec": {
   "display_name": "Python 3",
   "language": "python",
   "name": "python3"
  },
  "language_info": {
   "codemirror_mode": {
    "name": "ipython",
    "version": 3
   },
   "file_extension": ".py",
   "mimetype": "text/x-python",
   "name": "python",
   "nbconvert_exporter": "python",
   "pygments_lexer": "ipython3",
   "version": "3.8.5"
  }
 },
 "nbformat": 4,
 "nbformat_minor": 4
}
